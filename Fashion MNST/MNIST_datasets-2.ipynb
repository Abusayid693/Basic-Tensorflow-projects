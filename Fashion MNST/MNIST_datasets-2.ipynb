{
  "nbformat": 4,
  "nbformat_minor": 0,
  "metadata": {
    "colab": {
      "name": "MNIST datasets.ipynb",
      "provenance": []
    },
    "kernelspec": {
      "name": "python3",
      "display_name": "Python 3"
    },
    "language_info": {
      "name": "python"
    },
    "widgets": {
      "application/vnd.jupyter.widget-state+json": {
        "7aba60ea37e04cabb4754839c12ace34": {
          "model_module": "@jupyter-widgets/controls",
          "model_name": "HBoxModel",
          "model_module_version": "1.5.0",
          "state": {
            "_view_name": "HBoxView",
            "_dom_classes": [],
            "_model_name": "HBoxModel",
            "_view_module": "@jupyter-widgets/controls",
            "_model_module_version": "1.5.0",
            "_view_count": null,
            "_view_module_version": "1.5.0",
            "box_style": "",
            "layout": "IPY_MODEL_af77ff6c271e46beb0d2bd5f6e090588",
            "_model_module": "@jupyter-widgets/controls",
            "children": [
              "IPY_MODEL_db972fe2d6a549f4ac146f7363ea55fd",
              "IPY_MODEL_74152f0a589141ec9532fec68fa31da6",
              "IPY_MODEL_af17bfec005440d9bf6c8240b97c90d0"
            ]
          }
        },
        "af77ff6c271e46beb0d2bd5f6e090588": {
          "model_module": "@jupyter-widgets/base",
          "model_name": "LayoutModel",
          "model_module_version": "1.2.0",
          "state": {
            "_view_name": "LayoutView",
            "grid_template_rows": null,
            "right": null,
            "justify_content": null,
            "_view_module": "@jupyter-widgets/base",
            "overflow": null,
            "_model_module_version": "1.2.0",
            "_view_count": null,
            "flex_flow": null,
            "width": null,
            "min_width": null,
            "border": null,
            "align_items": null,
            "bottom": null,
            "_model_module": "@jupyter-widgets/base",
            "top": null,
            "grid_column": null,
            "overflow_y": null,
            "overflow_x": null,
            "grid_auto_flow": null,
            "grid_area": null,
            "grid_template_columns": null,
            "flex": null,
            "_model_name": "LayoutModel",
            "justify_items": null,
            "grid_row": null,
            "max_height": null,
            "align_content": null,
            "visibility": null,
            "align_self": null,
            "height": null,
            "min_height": null,
            "padding": null,
            "grid_auto_rows": null,
            "grid_gap": null,
            "max_width": null,
            "order": null,
            "_view_module_version": "1.2.0",
            "grid_template_areas": null,
            "object_position": null,
            "object_fit": null,
            "grid_auto_columns": null,
            "margin": null,
            "display": null,
            "left": null
          }
        },
        "db972fe2d6a549f4ac146f7363ea55fd": {
          "model_module": "@jupyter-widgets/controls",
          "model_name": "HTMLModel",
          "model_module_version": "1.5.0",
          "state": {
            "_view_name": "HTMLView",
            "style": "IPY_MODEL_bca8b6845ae44b0f8b9a5ea93c830239",
            "_dom_classes": [],
            "description": "",
            "_model_name": "HTMLModel",
            "placeholder": "​",
            "_view_module": "@jupyter-widgets/controls",
            "_model_module_version": "1.5.0",
            "value": "Dl Completed...: 100%",
            "_view_count": null,
            "_view_module_version": "1.5.0",
            "description_tooltip": null,
            "_model_module": "@jupyter-widgets/controls",
            "layout": "IPY_MODEL_f07094b2b3d34ee3a2ba71d6501bc735"
          }
        },
        "74152f0a589141ec9532fec68fa31da6": {
          "model_module": "@jupyter-widgets/controls",
          "model_name": "FloatProgressModel",
          "model_module_version": "1.5.0",
          "state": {
            "_view_name": "ProgressView",
            "style": "IPY_MODEL_105358caba08495cabf4c5f10a2577a6",
            "_dom_classes": [],
            "description": "",
            "_model_name": "FloatProgressModel",
            "bar_style": "success",
            "max": 1,
            "_view_module": "@jupyter-widgets/controls",
            "_model_module_version": "1.5.0",
            "value": 1,
            "_view_count": null,
            "_view_module_version": "1.5.0",
            "orientation": "horizontal",
            "min": 0,
            "description_tooltip": null,
            "_model_module": "@jupyter-widgets/controls",
            "layout": "IPY_MODEL_b0237df778a3449286bc57a607757ebe"
          }
        },
        "af17bfec005440d9bf6c8240b97c90d0": {
          "model_module": "@jupyter-widgets/controls",
          "model_name": "HTMLModel",
          "model_module_version": "1.5.0",
          "state": {
            "_view_name": "HTMLView",
            "style": "IPY_MODEL_a2b731a19cd94ea7982637f472d30f61",
            "_dom_classes": [],
            "description": "",
            "_model_name": "HTMLModel",
            "placeholder": "​",
            "_view_module": "@jupyter-widgets/controls",
            "_model_module_version": "1.5.0",
            "value": " 4/4 [00:02&lt;00:00,  1.69 url/s]",
            "_view_count": null,
            "_view_module_version": "1.5.0",
            "description_tooltip": null,
            "_model_module": "@jupyter-widgets/controls",
            "layout": "IPY_MODEL_b39bf470970f42faa6a546b313fac55a"
          }
        },
        "bca8b6845ae44b0f8b9a5ea93c830239": {
          "model_module": "@jupyter-widgets/controls",
          "model_name": "DescriptionStyleModel",
          "model_module_version": "1.5.0",
          "state": {
            "_view_name": "StyleView",
            "_model_name": "DescriptionStyleModel",
            "description_width": "",
            "_view_module": "@jupyter-widgets/base",
            "_model_module_version": "1.5.0",
            "_view_count": null,
            "_view_module_version": "1.2.0",
            "_model_module": "@jupyter-widgets/controls"
          }
        },
        "f07094b2b3d34ee3a2ba71d6501bc735": {
          "model_module": "@jupyter-widgets/base",
          "model_name": "LayoutModel",
          "model_module_version": "1.2.0",
          "state": {
            "_view_name": "LayoutView",
            "grid_template_rows": null,
            "right": null,
            "justify_content": null,
            "_view_module": "@jupyter-widgets/base",
            "overflow": null,
            "_model_module_version": "1.2.0",
            "_view_count": null,
            "flex_flow": null,
            "width": null,
            "min_width": null,
            "border": null,
            "align_items": null,
            "bottom": null,
            "_model_module": "@jupyter-widgets/base",
            "top": null,
            "grid_column": null,
            "overflow_y": null,
            "overflow_x": null,
            "grid_auto_flow": null,
            "grid_area": null,
            "grid_template_columns": null,
            "flex": null,
            "_model_name": "LayoutModel",
            "justify_items": null,
            "grid_row": null,
            "max_height": null,
            "align_content": null,
            "visibility": null,
            "align_self": null,
            "height": null,
            "min_height": null,
            "padding": null,
            "grid_auto_rows": null,
            "grid_gap": null,
            "max_width": null,
            "order": null,
            "_view_module_version": "1.2.0",
            "grid_template_areas": null,
            "object_position": null,
            "object_fit": null,
            "grid_auto_columns": null,
            "margin": null,
            "display": null,
            "left": null
          }
        },
        "105358caba08495cabf4c5f10a2577a6": {
          "model_module": "@jupyter-widgets/controls",
          "model_name": "ProgressStyleModel",
          "model_module_version": "1.5.0",
          "state": {
            "_view_name": "StyleView",
            "_model_name": "ProgressStyleModel",
            "description_width": "",
            "_view_module": "@jupyter-widgets/base",
            "_model_module_version": "1.5.0",
            "_view_count": null,
            "_view_module_version": "1.2.0",
            "bar_color": null,
            "_model_module": "@jupyter-widgets/controls"
          }
        },
        "b0237df778a3449286bc57a607757ebe": {
          "model_module": "@jupyter-widgets/base",
          "model_name": "LayoutModel",
          "model_module_version": "1.2.0",
          "state": {
            "_view_name": "LayoutView",
            "grid_template_rows": null,
            "right": null,
            "justify_content": null,
            "_view_module": "@jupyter-widgets/base",
            "overflow": null,
            "_model_module_version": "1.2.0",
            "_view_count": null,
            "flex_flow": null,
            "width": "20px",
            "min_width": null,
            "border": null,
            "align_items": null,
            "bottom": null,
            "_model_module": "@jupyter-widgets/base",
            "top": null,
            "grid_column": null,
            "overflow_y": null,
            "overflow_x": null,
            "grid_auto_flow": null,
            "grid_area": null,
            "grid_template_columns": null,
            "flex": null,
            "_model_name": "LayoutModel",
            "justify_items": null,
            "grid_row": null,
            "max_height": null,
            "align_content": null,
            "visibility": null,
            "align_self": null,
            "height": null,
            "min_height": null,
            "padding": null,
            "grid_auto_rows": null,
            "grid_gap": null,
            "max_width": null,
            "order": null,
            "_view_module_version": "1.2.0",
            "grid_template_areas": null,
            "object_position": null,
            "object_fit": null,
            "grid_auto_columns": null,
            "margin": null,
            "display": null,
            "left": null
          }
        },
        "a2b731a19cd94ea7982637f472d30f61": {
          "model_module": "@jupyter-widgets/controls",
          "model_name": "DescriptionStyleModel",
          "model_module_version": "1.5.0",
          "state": {
            "_view_name": "StyleView",
            "_model_name": "DescriptionStyleModel",
            "description_width": "",
            "_view_module": "@jupyter-widgets/base",
            "_model_module_version": "1.5.0",
            "_view_count": null,
            "_view_module_version": "1.2.0",
            "_model_module": "@jupyter-widgets/controls"
          }
        },
        "b39bf470970f42faa6a546b313fac55a": {
          "model_module": "@jupyter-widgets/base",
          "model_name": "LayoutModel",
          "model_module_version": "1.2.0",
          "state": {
            "_view_name": "LayoutView",
            "grid_template_rows": null,
            "right": null,
            "justify_content": null,
            "_view_module": "@jupyter-widgets/base",
            "overflow": null,
            "_model_module_version": "1.2.0",
            "_view_count": null,
            "flex_flow": null,
            "width": null,
            "min_width": null,
            "border": null,
            "align_items": null,
            "bottom": null,
            "_model_module": "@jupyter-widgets/base",
            "top": null,
            "grid_column": null,
            "overflow_y": null,
            "overflow_x": null,
            "grid_auto_flow": null,
            "grid_area": null,
            "grid_template_columns": null,
            "flex": null,
            "_model_name": "LayoutModel",
            "justify_items": null,
            "grid_row": null,
            "max_height": null,
            "align_content": null,
            "visibility": null,
            "align_self": null,
            "height": null,
            "min_height": null,
            "padding": null,
            "grid_auto_rows": null,
            "grid_gap": null,
            "max_width": null,
            "order": null,
            "_view_module_version": "1.2.0",
            "grid_template_areas": null,
            "object_position": null,
            "object_fit": null,
            "grid_auto_columns": null,
            "margin": null,
            "display": null,
            "left": null
          }
        },
        "53bfca7efdcd464cac8ba9cd404ebdaa": {
          "model_module": "@jupyter-widgets/controls",
          "model_name": "HBoxModel",
          "model_module_version": "1.5.0",
          "state": {
            "_view_name": "HBoxView",
            "_dom_classes": [],
            "_model_name": "HBoxModel",
            "_view_module": "@jupyter-widgets/controls",
            "_model_module_version": "1.5.0",
            "_view_count": null,
            "_view_module_version": "1.5.0",
            "box_style": "",
            "layout": "IPY_MODEL_4694878608184697a7fee28395a4d892",
            "_model_module": "@jupyter-widgets/controls",
            "children": [
              "IPY_MODEL_f4792f4b982545d2b7ad71fadfd25c02",
              "IPY_MODEL_4f6a96620e1c4acbace37eb003ed432d",
              "IPY_MODEL_6ebf3770fd8b4655b29662a00a522624"
            ]
          }
        },
        "4694878608184697a7fee28395a4d892": {
          "model_module": "@jupyter-widgets/base",
          "model_name": "LayoutModel",
          "model_module_version": "1.2.0",
          "state": {
            "_view_name": "LayoutView",
            "grid_template_rows": null,
            "right": null,
            "justify_content": null,
            "_view_module": "@jupyter-widgets/base",
            "overflow": null,
            "_model_module_version": "1.2.0",
            "_view_count": null,
            "flex_flow": null,
            "width": null,
            "min_width": null,
            "border": null,
            "align_items": null,
            "bottom": null,
            "_model_module": "@jupyter-widgets/base",
            "top": null,
            "grid_column": null,
            "overflow_y": null,
            "overflow_x": null,
            "grid_auto_flow": null,
            "grid_area": null,
            "grid_template_columns": null,
            "flex": null,
            "_model_name": "LayoutModel",
            "justify_items": null,
            "grid_row": null,
            "max_height": null,
            "align_content": null,
            "visibility": null,
            "align_self": null,
            "height": null,
            "min_height": null,
            "padding": null,
            "grid_auto_rows": null,
            "grid_gap": null,
            "max_width": null,
            "order": null,
            "_view_module_version": "1.2.0",
            "grid_template_areas": null,
            "object_position": null,
            "object_fit": null,
            "grid_auto_columns": null,
            "margin": null,
            "display": null,
            "left": null
          }
        },
        "f4792f4b982545d2b7ad71fadfd25c02": {
          "model_module": "@jupyter-widgets/controls",
          "model_name": "HTMLModel",
          "model_module_version": "1.5.0",
          "state": {
            "_view_name": "HTMLView",
            "style": "IPY_MODEL_a0db14cd2e7844d7ad9af6b5d717af93",
            "_dom_classes": [],
            "description": "",
            "_model_name": "HTMLModel",
            "placeholder": "​",
            "_view_module": "@jupyter-widgets/controls",
            "_model_module_version": "1.5.0",
            "value": "Dl Size...: 100%",
            "_view_count": null,
            "_view_module_version": "1.5.0",
            "description_tooltip": null,
            "_model_module": "@jupyter-widgets/controls",
            "layout": "IPY_MODEL_d05b44001b444bda95fb40015f9d69b7"
          }
        },
        "4f6a96620e1c4acbace37eb003ed432d": {
          "model_module": "@jupyter-widgets/controls",
          "model_name": "FloatProgressModel",
          "model_module_version": "1.5.0",
          "state": {
            "_view_name": "ProgressView",
            "style": "IPY_MODEL_b94c1a9d41ff41ebbf12e36ff9537b44",
            "_dom_classes": [],
            "description": "",
            "_model_name": "FloatProgressModel",
            "bar_style": "success",
            "max": 1,
            "_view_module": "@jupyter-widgets/controls",
            "_model_module_version": "1.5.0",
            "value": 1,
            "_view_count": null,
            "_view_module_version": "1.5.0",
            "orientation": "horizontal",
            "min": 0,
            "description_tooltip": null,
            "_model_module": "@jupyter-widgets/controls",
            "layout": "IPY_MODEL_a9a16882aea24f41979740096b645bb8"
          }
        },
        "6ebf3770fd8b4655b29662a00a522624": {
          "model_module": "@jupyter-widgets/controls",
          "model_name": "HTMLModel",
          "model_module_version": "1.5.0",
          "state": {
            "_view_name": "HTMLView",
            "style": "IPY_MODEL_22e55a66b20c455c986fed627778fbd0",
            "_dom_classes": [],
            "description": "",
            "_model_name": "HTMLModel",
            "placeholder": "​",
            "_view_module": "@jupyter-widgets/controls",
            "_model_module_version": "1.5.0",
            "value": " 29/29 [00:02&lt;00:00, 24.16 MiB/s]",
            "_view_count": null,
            "_view_module_version": "1.5.0",
            "description_tooltip": null,
            "_model_module": "@jupyter-widgets/controls",
            "layout": "IPY_MODEL_9335d6fc086f47beb6bc64a568c40b1e"
          }
        },
        "a0db14cd2e7844d7ad9af6b5d717af93": {
          "model_module": "@jupyter-widgets/controls",
          "model_name": "DescriptionStyleModel",
          "model_module_version": "1.5.0",
          "state": {
            "_view_name": "StyleView",
            "_model_name": "DescriptionStyleModel",
            "description_width": "",
            "_view_module": "@jupyter-widgets/base",
            "_model_module_version": "1.5.0",
            "_view_count": null,
            "_view_module_version": "1.2.0",
            "_model_module": "@jupyter-widgets/controls"
          }
        },
        "d05b44001b444bda95fb40015f9d69b7": {
          "model_module": "@jupyter-widgets/base",
          "model_name": "LayoutModel",
          "model_module_version": "1.2.0",
          "state": {
            "_view_name": "LayoutView",
            "grid_template_rows": null,
            "right": null,
            "justify_content": null,
            "_view_module": "@jupyter-widgets/base",
            "overflow": null,
            "_model_module_version": "1.2.0",
            "_view_count": null,
            "flex_flow": null,
            "width": null,
            "min_width": null,
            "border": null,
            "align_items": null,
            "bottom": null,
            "_model_module": "@jupyter-widgets/base",
            "top": null,
            "grid_column": null,
            "overflow_y": null,
            "overflow_x": null,
            "grid_auto_flow": null,
            "grid_area": null,
            "grid_template_columns": null,
            "flex": null,
            "_model_name": "LayoutModel",
            "justify_items": null,
            "grid_row": null,
            "max_height": null,
            "align_content": null,
            "visibility": null,
            "align_self": null,
            "height": null,
            "min_height": null,
            "padding": null,
            "grid_auto_rows": null,
            "grid_gap": null,
            "max_width": null,
            "order": null,
            "_view_module_version": "1.2.0",
            "grid_template_areas": null,
            "object_position": null,
            "object_fit": null,
            "grid_auto_columns": null,
            "margin": null,
            "display": null,
            "left": null
          }
        },
        "b94c1a9d41ff41ebbf12e36ff9537b44": {
          "model_module": "@jupyter-widgets/controls",
          "model_name": "ProgressStyleModel",
          "model_module_version": "1.5.0",
          "state": {
            "_view_name": "StyleView",
            "_model_name": "ProgressStyleModel",
            "description_width": "",
            "_view_module": "@jupyter-widgets/base",
            "_model_module_version": "1.5.0",
            "_view_count": null,
            "_view_module_version": "1.2.0",
            "bar_color": null,
            "_model_module": "@jupyter-widgets/controls"
          }
        },
        "a9a16882aea24f41979740096b645bb8": {
          "model_module": "@jupyter-widgets/base",
          "model_name": "LayoutModel",
          "model_module_version": "1.2.0",
          "state": {
            "_view_name": "LayoutView",
            "grid_template_rows": null,
            "right": null,
            "justify_content": null,
            "_view_module": "@jupyter-widgets/base",
            "overflow": null,
            "_model_module_version": "1.2.0",
            "_view_count": null,
            "flex_flow": null,
            "width": "20px",
            "min_width": null,
            "border": null,
            "align_items": null,
            "bottom": null,
            "_model_module": "@jupyter-widgets/base",
            "top": null,
            "grid_column": null,
            "overflow_y": null,
            "overflow_x": null,
            "grid_auto_flow": null,
            "grid_area": null,
            "grid_template_columns": null,
            "flex": null,
            "_model_name": "LayoutModel",
            "justify_items": null,
            "grid_row": null,
            "max_height": null,
            "align_content": null,
            "visibility": null,
            "align_self": null,
            "height": null,
            "min_height": null,
            "padding": null,
            "grid_auto_rows": null,
            "grid_gap": null,
            "max_width": null,
            "order": null,
            "_view_module_version": "1.2.0",
            "grid_template_areas": null,
            "object_position": null,
            "object_fit": null,
            "grid_auto_columns": null,
            "margin": null,
            "display": null,
            "left": null
          }
        },
        "22e55a66b20c455c986fed627778fbd0": {
          "model_module": "@jupyter-widgets/controls",
          "model_name": "DescriptionStyleModel",
          "model_module_version": "1.5.0",
          "state": {
            "_view_name": "StyleView",
            "_model_name": "DescriptionStyleModel",
            "description_width": "",
            "_view_module": "@jupyter-widgets/base",
            "_model_module_version": "1.5.0",
            "_view_count": null,
            "_view_module_version": "1.2.0",
            "_model_module": "@jupyter-widgets/controls"
          }
        },
        "9335d6fc086f47beb6bc64a568c40b1e": {
          "model_module": "@jupyter-widgets/base",
          "model_name": "LayoutModel",
          "model_module_version": "1.2.0",
          "state": {
            "_view_name": "LayoutView",
            "grid_template_rows": null,
            "right": null,
            "justify_content": null,
            "_view_module": "@jupyter-widgets/base",
            "overflow": null,
            "_model_module_version": "1.2.0",
            "_view_count": null,
            "flex_flow": null,
            "width": null,
            "min_width": null,
            "border": null,
            "align_items": null,
            "bottom": null,
            "_model_module": "@jupyter-widgets/base",
            "top": null,
            "grid_column": null,
            "overflow_y": null,
            "overflow_x": null,
            "grid_auto_flow": null,
            "grid_area": null,
            "grid_template_columns": null,
            "flex": null,
            "_model_name": "LayoutModel",
            "justify_items": null,
            "grid_row": null,
            "max_height": null,
            "align_content": null,
            "visibility": null,
            "align_self": null,
            "height": null,
            "min_height": null,
            "padding": null,
            "grid_auto_rows": null,
            "grid_gap": null,
            "max_width": null,
            "order": null,
            "_view_module_version": "1.2.0",
            "grid_template_areas": null,
            "object_position": null,
            "object_fit": null,
            "grid_auto_columns": null,
            "margin": null,
            "display": null,
            "left": null
          }
        },
        "4d96b66b15d2484cb30166ba624c225d": {
          "model_module": "@jupyter-widgets/controls",
          "model_name": "HBoxModel",
          "model_module_version": "1.5.0",
          "state": {
            "_view_name": "HBoxView",
            "_dom_classes": [],
            "_model_name": "HBoxModel",
            "_view_module": "@jupyter-widgets/controls",
            "_model_module_version": "1.5.0",
            "_view_count": null,
            "_view_module_version": "1.5.0",
            "box_style": "",
            "layout": "IPY_MODEL_e08a50be481b40ea9bfcb69aea4cdffe",
            "_model_module": "@jupyter-widgets/controls",
            "children": [
              "IPY_MODEL_e794b0e6ccb649d7a8905e5544788040",
              "IPY_MODEL_82a8b087e8174eee8abe723655281821",
              "IPY_MODEL_9976c810088b4966bce7371a78a3f137"
            ]
          }
        },
        "e08a50be481b40ea9bfcb69aea4cdffe": {
          "model_module": "@jupyter-widgets/base",
          "model_name": "LayoutModel",
          "model_module_version": "1.2.0",
          "state": {
            "_view_name": "LayoutView",
            "grid_template_rows": null,
            "right": null,
            "justify_content": null,
            "_view_module": "@jupyter-widgets/base",
            "overflow": null,
            "_model_module_version": "1.2.0",
            "_view_count": null,
            "flex_flow": null,
            "width": null,
            "min_width": null,
            "border": null,
            "align_items": null,
            "bottom": null,
            "_model_module": "@jupyter-widgets/base",
            "top": null,
            "grid_column": null,
            "overflow_y": null,
            "overflow_x": null,
            "grid_auto_flow": null,
            "grid_area": null,
            "grid_template_columns": null,
            "flex": null,
            "_model_name": "LayoutModel",
            "justify_items": null,
            "grid_row": null,
            "max_height": null,
            "align_content": null,
            "visibility": null,
            "align_self": null,
            "height": null,
            "min_height": null,
            "padding": null,
            "grid_auto_rows": null,
            "grid_gap": null,
            "max_width": null,
            "order": null,
            "_view_module_version": "1.2.0",
            "grid_template_areas": null,
            "object_position": null,
            "object_fit": null,
            "grid_auto_columns": null,
            "margin": null,
            "display": null,
            "left": null
          }
        },
        "e794b0e6ccb649d7a8905e5544788040": {
          "model_module": "@jupyter-widgets/controls",
          "model_name": "HTMLModel",
          "model_module_version": "1.5.0",
          "state": {
            "_view_name": "HTMLView",
            "style": "IPY_MODEL_7bb2794e18fb41598d8e211f9af81b1c",
            "_dom_classes": [],
            "description": "",
            "_model_name": "HTMLModel",
            "placeholder": "​",
            "_view_module": "@jupyter-widgets/controls",
            "_model_module_version": "1.5.0",
            "value": "Extraction completed...: 100%",
            "_view_count": null,
            "_view_module_version": "1.5.0",
            "description_tooltip": null,
            "_model_module": "@jupyter-widgets/controls",
            "layout": "IPY_MODEL_f418d14b4d634a83b03e2474323773c5"
          }
        },
        "82a8b087e8174eee8abe723655281821": {
          "model_module": "@jupyter-widgets/controls",
          "model_name": "FloatProgressModel",
          "model_module_version": "1.5.0",
          "state": {
            "_view_name": "ProgressView",
            "style": "IPY_MODEL_89e2fe9a43a94bacbf3f0c894cf5b1a2",
            "_dom_classes": [],
            "description": "",
            "_model_name": "FloatProgressModel",
            "bar_style": "success",
            "max": 1,
            "_view_module": "@jupyter-widgets/controls",
            "_model_module_version": "1.5.0",
            "value": 1,
            "_view_count": null,
            "_view_module_version": "1.5.0",
            "orientation": "horizontal",
            "min": 0,
            "description_tooltip": null,
            "_model_module": "@jupyter-widgets/controls",
            "layout": "IPY_MODEL_68be8f5db5f7469b91b463fdb4ffa9af"
          }
        },
        "9976c810088b4966bce7371a78a3f137": {
          "model_module": "@jupyter-widgets/controls",
          "model_name": "HTMLModel",
          "model_module_version": "1.5.0",
          "state": {
            "_view_name": "HTMLView",
            "style": "IPY_MODEL_b9ca1349f9a143b8b584e7f2bd4260de",
            "_dom_classes": [],
            "description": "",
            "_model_name": "HTMLModel",
            "placeholder": "​",
            "_view_module": "@jupyter-widgets/controls",
            "_model_module_version": "1.5.0",
            "value": " 4/4 [00:02&lt;00:00,  1.39 file/s]",
            "_view_count": null,
            "_view_module_version": "1.5.0",
            "description_tooltip": null,
            "_model_module": "@jupyter-widgets/controls",
            "layout": "IPY_MODEL_ecf871fabe0c4a40b07660aef42da6e7"
          }
        },
        "7bb2794e18fb41598d8e211f9af81b1c": {
          "model_module": "@jupyter-widgets/controls",
          "model_name": "DescriptionStyleModel",
          "model_module_version": "1.5.0",
          "state": {
            "_view_name": "StyleView",
            "_model_name": "DescriptionStyleModel",
            "description_width": "",
            "_view_module": "@jupyter-widgets/base",
            "_model_module_version": "1.5.0",
            "_view_count": null,
            "_view_module_version": "1.2.0",
            "_model_module": "@jupyter-widgets/controls"
          }
        },
        "f418d14b4d634a83b03e2474323773c5": {
          "model_module": "@jupyter-widgets/base",
          "model_name": "LayoutModel",
          "model_module_version": "1.2.0",
          "state": {
            "_view_name": "LayoutView",
            "grid_template_rows": null,
            "right": null,
            "justify_content": null,
            "_view_module": "@jupyter-widgets/base",
            "overflow": null,
            "_model_module_version": "1.2.0",
            "_view_count": null,
            "flex_flow": null,
            "width": null,
            "min_width": null,
            "border": null,
            "align_items": null,
            "bottom": null,
            "_model_module": "@jupyter-widgets/base",
            "top": null,
            "grid_column": null,
            "overflow_y": null,
            "overflow_x": null,
            "grid_auto_flow": null,
            "grid_area": null,
            "grid_template_columns": null,
            "flex": null,
            "_model_name": "LayoutModel",
            "justify_items": null,
            "grid_row": null,
            "max_height": null,
            "align_content": null,
            "visibility": null,
            "align_self": null,
            "height": null,
            "min_height": null,
            "padding": null,
            "grid_auto_rows": null,
            "grid_gap": null,
            "max_width": null,
            "order": null,
            "_view_module_version": "1.2.0",
            "grid_template_areas": null,
            "object_position": null,
            "object_fit": null,
            "grid_auto_columns": null,
            "margin": null,
            "display": null,
            "left": null
          }
        },
        "89e2fe9a43a94bacbf3f0c894cf5b1a2": {
          "model_module": "@jupyter-widgets/controls",
          "model_name": "ProgressStyleModel",
          "model_module_version": "1.5.0",
          "state": {
            "_view_name": "StyleView",
            "_model_name": "ProgressStyleModel",
            "description_width": "",
            "_view_module": "@jupyter-widgets/base",
            "_model_module_version": "1.5.0",
            "_view_count": null,
            "_view_module_version": "1.2.0",
            "bar_color": null,
            "_model_module": "@jupyter-widgets/controls"
          }
        },
        "68be8f5db5f7469b91b463fdb4ffa9af": {
          "model_module": "@jupyter-widgets/base",
          "model_name": "LayoutModel",
          "model_module_version": "1.2.0",
          "state": {
            "_view_name": "LayoutView",
            "grid_template_rows": null,
            "right": null,
            "justify_content": null,
            "_view_module": "@jupyter-widgets/base",
            "overflow": null,
            "_model_module_version": "1.2.0",
            "_view_count": null,
            "flex_flow": null,
            "width": "20px",
            "min_width": null,
            "border": null,
            "align_items": null,
            "bottom": null,
            "_model_module": "@jupyter-widgets/base",
            "top": null,
            "grid_column": null,
            "overflow_y": null,
            "overflow_x": null,
            "grid_auto_flow": null,
            "grid_area": null,
            "grid_template_columns": null,
            "flex": null,
            "_model_name": "LayoutModel",
            "justify_items": null,
            "grid_row": null,
            "max_height": null,
            "align_content": null,
            "visibility": null,
            "align_self": null,
            "height": null,
            "min_height": null,
            "padding": null,
            "grid_auto_rows": null,
            "grid_gap": null,
            "max_width": null,
            "order": null,
            "_view_module_version": "1.2.0",
            "grid_template_areas": null,
            "object_position": null,
            "object_fit": null,
            "grid_auto_columns": null,
            "margin": null,
            "display": null,
            "left": null
          }
        },
        "b9ca1349f9a143b8b584e7f2bd4260de": {
          "model_module": "@jupyter-widgets/controls",
          "model_name": "DescriptionStyleModel",
          "model_module_version": "1.5.0",
          "state": {
            "_view_name": "StyleView",
            "_model_name": "DescriptionStyleModel",
            "description_width": "",
            "_view_module": "@jupyter-widgets/base",
            "_model_module_version": "1.5.0",
            "_view_count": null,
            "_view_module_version": "1.2.0",
            "_model_module": "@jupyter-widgets/controls"
          }
        },
        "ecf871fabe0c4a40b07660aef42da6e7": {
          "model_module": "@jupyter-widgets/base",
          "model_name": "LayoutModel",
          "model_module_version": "1.2.0",
          "state": {
            "_view_name": "LayoutView",
            "grid_template_rows": null,
            "right": null,
            "justify_content": null,
            "_view_module": "@jupyter-widgets/base",
            "overflow": null,
            "_model_module_version": "1.2.0",
            "_view_count": null,
            "flex_flow": null,
            "width": null,
            "min_width": null,
            "border": null,
            "align_items": null,
            "bottom": null,
            "_model_module": "@jupyter-widgets/base",
            "top": null,
            "grid_column": null,
            "overflow_y": null,
            "overflow_x": null,
            "grid_auto_flow": null,
            "grid_area": null,
            "grid_template_columns": null,
            "flex": null,
            "_model_name": "LayoutModel",
            "justify_items": null,
            "grid_row": null,
            "max_height": null,
            "align_content": null,
            "visibility": null,
            "align_self": null,
            "height": null,
            "min_height": null,
            "padding": null,
            "grid_auto_rows": null,
            "grid_gap": null,
            "max_width": null,
            "order": null,
            "_view_module_version": "1.2.0",
            "grid_template_areas": null,
            "object_position": null,
            "object_fit": null,
            "grid_auto_columns": null,
            "margin": null,
            "display": null,
            "left": null
          }
        }
      }
    }
  },
  "cells": [
    {
      "cell_type": "code",
      "metadata": {
        "id": "MTYFebJ3YgxY"
      },
      "source": [
        "import numpy as np\n",
        "import tensorflow as tf\n",
        "from tensorflow.keras.models import Model\n",
        "from tensorflow.keras.layers import Dense, Input\n",
        "\n",
        "from matplotlib import pyplot as plt\n",
        "import pandas as pd\n",
        "from sklearn.model_selection import train_test_split\n",
        "from sklearn.metrics import confusion_matrix\n",
        "\n",
        "import itertools\n",
        "from tqdm import tqdm\n",
        "\n",
        "import tensorflow_datasets as tfds\n",
        "import matplotlib.ticker as mticker"
      ],
      "execution_count": 1,
      "outputs": []
    },
    {
      "cell_type": "code",
      "metadata": {
        "colab": {
          "base_uri": "https://localhost:8080/",
          "height": 316,
          "referenced_widgets": [
            "7aba60ea37e04cabb4754839c12ace34",
            "af77ff6c271e46beb0d2bd5f6e090588",
            "db972fe2d6a549f4ac146f7363ea55fd",
            "74152f0a589141ec9532fec68fa31da6",
            "af17bfec005440d9bf6c8240b97c90d0",
            "bca8b6845ae44b0f8b9a5ea93c830239",
            "f07094b2b3d34ee3a2ba71d6501bc735",
            "105358caba08495cabf4c5f10a2577a6",
            "b0237df778a3449286bc57a607757ebe",
            "a2b731a19cd94ea7982637f472d30f61",
            "b39bf470970f42faa6a546b313fac55a",
            "53bfca7efdcd464cac8ba9cd404ebdaa",
            "4694878608184697a7fee28395a4d892",
            "f4792f4b982545d2b7ad71fadfd25c02",
            "4f6a96620e1c4acbace37eb003ed432d",
            "6ebf3770fd8b4655b29662a00a522624",
            "a0db14cd2e7844d7ad9af6b5d717af93",
            "d05b44001b444bda95fb40015f9d69b7",
            "b94c1a9d41ff41ebbf12e36ff9537b44",
            "a9a16882aea24f41979740096b645bb8",
            "22e55a66b20c455c986fed627778fbd0",
            "9335d6fc086f47beb6bc64a568c40b1e",
            "4d96b66b15d2484cb30166ba624c225d",
            "e08a50be481b40ea9bfcb69aea4cdffe",
            "e794b0e6ccb649d7a8905e5544788040",
            "82a8b087e8174eee8abe723655281821",
            "9976c810088b4966bce7371a78a3f137",
            "7bb2794e18fb41598d8e211f9af81b1c",
            "f418d14b4d634a83b03e2474323773c5",
            "89e2fe9a43a94bacbf3f0c894cf5b1a2",
            "68be8f5db5f7469b91b463fdb4ffa9af",
            "b9ca1349f9a143b8b584e7f2bd4260de",
            "ecf871fabe0c4a40b07660aef42da6e7"
          ]
        },
        "id": "0oiN8zFVYqad",
        "outputId": "22114cbc-6140-4635-a3ac-c1e3e1a5c43c"
      },
      "source": [
        "\"\"\"\n",
        "Loading and preprocessing datasets from tensorflow-datasets\n",
        "\"\"\"\n",
        "\n",
        "train_data , info = tfds.load(\"fashion_mnist\", split=\"train\", with_info=True)\n",
        "test_data = tfds.load(\"fashion_mnist\", split=\"test\")"
      ],
      "execution_count": 2,
      "outputs": [
        {
          "output_type": "stream",
          "name": "stdout",
          "text": [
            "\u001b[1mDownloading and preparing dataset fashion_mnist/3.0.1 (download: 29.45 MiB, generated: 36.42 MiB, total: 65.87 MiB) to /root/tensorflow_datasets/fashion_mnist/3.0.1...\u001b[0m\n"
          ]
        },
        {
          "output_type": "display_data",
          "data": {
            "application/vnd.jupyter.widget-view+json": {
              "model_id": "7aba60ea37e04cabb4754839c12ace34",
              "version_minor": 0,
              "version_major": 2
            },
            "text/plain": [
              "Dl Completed...: 0 url [00:00, ? url/s]"
            ]
          },
          "metadata": {}
        },
        {
          "output_type": "display_data",
          "data": {
            "application/vnd.jupyter.widget-view+json": {
              "model_id": "53bfca7efdcd464cac8ba9cd404ebdaa",
              "version_minor": 0,
              "version_major": 2
            },
            "text/plain": [
              "Dl Size...: 0 MiB [00:00, ? MiB/s]"
            ]
          },
          "metadata": {}
        },
        {
          "output_type": "display_data",
          "data": {
            "application/vnd.jupyter.widget-view+json": {
              "model_id": "4d96b66b15d2484cb30166ba624c225d",
              "version_minor": 0,
              "version_major": 2
            },
            "text/plain": [
              "Extraction completed...: 0 file [00:00, ? file/s]"
            ]
          },
          "metadata": {}
        },
        {
          "output_type": "stream",
          "name": "stdout",
          "text": [
            "\n",
            "\n",
            "\n"
          ]
        },
        {
          "output_type": "display_data",
          "data": {
            "application/vnd.jupyter.widget-view+json": {
              "model_id": "2b149ffdf88145f592aa42d4250826ff",
              "version_minor": 0,
              "version_major": 2
            },
            "text/plain": [
              "0 examples [00:00, ? examples/s]"
            ]
          },
          "metadata": {}
        },
        {
          "output_type": "stream",
          "name": "stdout",
          "text": [
            "Shuffling and writing examples to /root/tensorflow_datasets/fashion_mnist/3.0.1.incompleteMOTRR5/fashion_mnist-train.tfrecord\n"
          ]
        },
        {
          "output_type": "display_data",
          "data": {
            "application/vnd.jupyter.widget-view+json": {
              "model_id": "4a8b084367714fc68019b0ff3701ebbc",
              "version_minor": 0,
              "version_major": 2
            },
            "text/plain": [
              "  0%|          | 0/60000 [00:00<?, ? examples/s]"
            ]
          },
          "metadata": {}
        },
        {
          "output_type": "display_data",
          "data": {
            "application/vnd.jupyter.widget-view+json": {
              "model_id": "93156aa5575a49608609e55aa1cf7e2d",
              "version_minor": 0,
              "version_major": 2
            },
            "text/plain": [
              "0 examples [00:00, ? examples/s]"
            ]
          },
          "metadata": {}
        },
        {
          "output_type": "stream",
          "name": "stdout",
          "text": [
            "Shuffling and writing examples to /root/tensorflow_datasets/fashion_mnist/3.0.1.incompleteMOTRR5/fashion_mnist-test.tfrecord\n"
          ]
        },
        {
          "output_type": "display_data",
          "data": {
            "application/vnd.jupyter.widget-view+json": {
              "model_id": "7f9d01819c7f420a93cbac942999c0f3",
              "version_minor": 0,
              "version_major": 2
            },
            "text/plain": [
              "  0%|          | 0/10000 [00:00<?, ? examples/s]"
            ]
          },
          "metadata": {}
        },
        {
          "output_type": "stream",
          "name": "stdout",
          "text": [
            "\u001b[1mDataset fashion_mnist downloaded and prepared to /root/tensorflow_datasets/fashion_mnist/3.0.1. Subsequent calls will reuse this data.\u001b[0m\n"
          ]
        }
      ]
    },
    {
      "cell_type": "code",
      "metadata": {
        "colab": {
          "base_uri": "https://localhost:8080/"
        },
        "id": "3pPA4djNYwQr",
        "outputId": "f209f586-6bf2-448f-ce28-83b2c42c9b96"
      },
      "source": [
        "\"\"\"\n",
        "Checking dimensions of loaded tensorflow datasets\n",
        "\"\"\"\n",
        "\n",
        "Num_of_training_data = tf.data.experimental.cardinality(train_data).numpy()\n",
        "\n",
        "print(Num_of_training_data)\n",
        "\n",
        "print(train_data)"
      ],
      "execution_count": 3,
      "outputs": [
        {
          "output_type": "stream",
          "name": "stdout",
          "text": [
            "60000\n",
            "<PrefetchDataset shapes: {image: (28, 28, 1), label: ()}, types: {image: tf.uint8, label: tf.int64}>\n"
          ]
        }
      ]
    },
    {
      "cell_type": "code",
      "metadata": {
        "id": "TfQ5RAuEYzJ7"
      },
      "source": [
        "classes_name = [ \"T-shirt/top\",\"Trouser/pants\", \"Pullover shirt\",\"Dress\",\"Coat\",\"Sandal\", \"Shirt\", \"Sneaker\",\"Bag\",\"Ankle boot\" ]"
      ],
      "execution_count": 4,
      "outputs": []
    },
    {
      "cell_type": "code",
      "metadata": {
        "id": "oCvIlAF9Y3Nd"
      },
      "source": [
        "\"\"\"\n",
        "Normalizing the datasets \n",
        "\"\"\"\n",
        "\n",
        "def Normalize_datasets(data):\n",
        "  image = data[\"image\"]\n",
        "  # Rescaling image into a vector\n",
        "  image = tf.reshape(image, [-1,])\n",
        "  image = tf.cast(image,'float32')\n",
        "  image = image/255.0\n",
        "  return image , data[\"label\"]"
      ],
      "execution_count": 5,
      "outputs": []
    },
    {
      "cell_type": "code",
      "metadata": {
        "id": "OvJBAhh_Y57n"
      },
      "source": [
        "train_data = train_data.map(Normalize_datasets)\n",
        "test_data = test_data.map(Normalize_datasets)"
      ],
      "execution_count": 6,
      "outputs": []
    },
    {
      "cell_type": "code",
      "metadata": {
        "id": "gKEBuAp3Y8y6"
      },
      "source": [
        "batch_size = 64\n",
        "\n",
        "train = train_data.shuffle(buffer_size=1024).batch(batch_size)\n",
        "\n",
        "dev = test_data.batch(batch_size)"
      ],
      "execution_count": 7,
      "outputs": []
    },
    {
      "cell_type": "code",
      "metadata": {
        "id": "ziMzgaWYY-xP"
      },
      "source": [
        "\"\"\"\n",
        "Defining deep neural network model using keras layers\n",
        "\"\"\"\n",
        "\n",
        "def base_model():\n",
        "\n",
        "  inputs = tf.keras.Input(shape = (784,), name=\"clothing\")\n",
        "  x = tf.keras.layers.Dense(64, activation=\"relu\", name=\"dense_1\")(inputs)\n",
        "  x = tf.keras.layers.Dense(64, activation=\"relu\", name=\"dense_2\")(x)\n",
        "  outputs = tf.keras.layers.Dense(10, activation=\"softmax\" , name=\"predictions\")(x)\n",
        "\n",
        "  model = tf.keras.Model(inputs=inputs,outputs=outputs)\n",
        "  return model"
      ],
      "execution_count": 8,
      "outputs": []
    },
    {
      "cell_type": "code",
      "metadata": {
        "id": "sHxT1wyXZA69"
      },
      "source": [
        "\"\"\"\n",
        "Defining optimizer and lossfunction\n",
        "\"\"\"\n",
        "optimizer = tf.keras.optimizers.Adam()\n",
        "loss_object = tf.keras.losses.SparseCategoricalCrossentropy()"
      ],
      "execution_count": 9,
      "outputs": []
    },
    {
      "cell_type": "code",
      "metadata": {
        "id": "N0dE98bYZC2m"
      },
      "source": [
        "\"\"\"\n",
        "Defining mertics to keep a track-record of our model accuracy during training processs\n",
        "\"\"\"\n",
        "\n",
        "train_acc_metric = tf.keras.metrics.SparseCategoricalAccuracy()\n",
        "val_acc_metric = tf.keras.metrics.SparseCategoricalAccuracy()"
      ],
      "execution_count": 10,
      "outputs": []
    },
    {
      "cell_type": "code",
      "metadata": {
        "id": "z9zaTborZFlY"
      },
      "source": [
        "\"\"\"\n",
        "Defining training loop with tensorflow gradient tape\n",
        "\"\"\"\n",
        "\n",
        "def apply_gradient(optimizer,model,x,y):\n",
        "  with tf.GradientTape() as tape:\n",
        "    logits = model(x)\n",
        "    loss_value = loss_object(y_true = y, y_pred = logits)\n",
        "\n",
        "  gradients = tape.gradient(loss_value, model.trainable_weights)\n",
        "  \n",
        "  optimizer.apply_gradients(zip(gradients,model.trainable_weights))  \n",
        "\n",
        "  return logits,loss_value"
      ],
      "execution_count": 11,
      "outputs": []
    },
    {
      "cell_type": "code",
      "metadata": {
        "id": "Lboov6WwZIFo"
      },
      "source": [
        "\"\"\"\n",
        "Defining train method for one epoch\n",
        "\"\"\"\n",
        "\n",
        "def train_data_for_one_epoch():\n",
        "  losses = []\n",
        "  pbar= tqdm(total=len(list(enumerate(train))), position=0, leave=True, bar_format='{l_bar}{bar}|{n_fmt}/{total_fmt}')\n",
        "\n",
        "  for step, (x_batch_train, y_batch_train) in enumerate(train):\n",
        "    logits,loss_value = apply_gradient(optimizer,model,x_batch_train,y_batch_train)\n",
        "\n",
        "    losses.append(loss_value)\n",
        "\n",
        "    train_acc_metric(y_batch_train,logits)\n",
        "    pbar.set_description(\"Training loss for step %s: %.4f\" % ( int(step), float(loss_value)))\n",
        "    pbar.update()\n",
        "  return losses\n"
      ],
      "execution_count": 12,
      "outputs": []
    },
    {
      "cell_type": "code",
      "metadata": {
        "id": "VD3wk_eUZKgY"
      },
      "source": [
        "\"\"\"\n",
        "Performing corss validation on development set after each epoch \n",
        "and calculating cross-accuracy\n",
        "\"\"\"\n",
        "\n",
        "def perform_validation():\n",
        "  losses = []\n",
        "  for x_val,y_val in dev:\n",
        "    val_logits = model(x_val)\n",
        "    val_loss = loss_object(y_true = y_val, y_pred = val_logits)\n",
        "    losses.append(val_loss)\n",
        "\n",
        "    val_acc_metric(y_val,val_logits)\n",
        "  return losses \n"
      ],
      "execution_count": 13,
      "outputs": []
    },
    {
      "cell_type": "code",
      "metadata": {
        "colab": {
          "base_uri": "https://localhost:8080/"
        },
        "id": "JmpDIvCuZMhU",
        "outputId": "dbe75171-e56e-4605-9f80-b953238879ff"
      },
      "source": [
        "\"\"\"\n",
        "Training loop initialization\n",
        "\"\"\"\n",
        "\n",
        "def initialize_training():\n",
        "  # Instance of main tensorflow model\n",
        "  model = base_model()\n",
        "\n",
        "  epochs = 10\n",
        "  epoch_val_losses, epoch_train_losses = [],[]\n",
        "\n",
        "  for epoch in range(epochs):\n",
        "\n",
        "    print('Start of epoch %d'% (epoch,)) \n",
        "\n",
        "    losses_train = train_data_for_one_epoch()\n",
        "    train_acc = train_acc_metric.result()\n",
        "\n",
        "    losses_val = perform_validation()\n",
        "    val_acc = val_acc_metric.result()\n",
        "\n",
        "    losses_train_mean = np.mean(losses_train)\n",
        "    losses_dev_mean = np.mean(losses_val)\n",
        "\n",
        "    epoch_val_losses.append(losses_train_mean)\n",
        "    epoch_train_losses.append(losses_dev_mean)\n",
        "\n",
        "    print(\"For epoch\"+str(epoch)+\", Train loss is = \"+str(losses_train_mean)+\", Dev loss is =\"+str(losses_dev_mean)+\" Train accuracy is =\"+str(train_acc.numpy())+\", Dev accuracy is \"+str(val_acc.numpy()))\n",
        "\n",
        "    train_acc_metric.reset_states()\n",
        "    val_acc_metric.reset_states()\n",
        "\n",
        "initialize_training()\n",
        "\n"
      ],
      "execution_count": 19,
      "outputs": [
        {
          "output_type": "stream",
          "name": "stdout",
          "text": [
            "Start of epoch 0\n"
          ]
        },
        {
          "output_type": "stream",
          "name": "stderr",
          "text": [
            "Training loss for step 937: 0.2586: 100%|██████████|938/938\n"
          ]
        },
        {
          "output_type": "stream",
          "name": "stdout",
          "text": [
            "For epoch0, Train loss is = 0.24968503, Dev loss is =0.3680063 Train accuracy is =0.90718335, Dev accuracy is 0.8757\n",
            "Start of epoch 1\n"
          ]
        },
        {
          "output_type": "stream",
          "name": "stderr",
          "text": [
            "Training loss for step 937: 0.2267: 100%|██████████|938/938\n"
          ]
        },
        {
          "output_type": "stream",
          "name": "stdout",
          "text": [
            "For epoch1, Train loss is = 0.24167061, Dev loss is =0.3427379 Train accuracy is =0.91006666, Dev accuracy is 0.8823\n",
            "Start of epoch 2\n"
          ]
        },
        {
          "output_type": "stream",
          "name": "stderr",
          "text": [
            "Training loss for step 937: 0.2694: 100%|██████████|938/938\n"
          ]
        },
        {
          "output_type": "stream",
          "name": "stdout",
          "text": [
            "For epoch2, Train loss is = 0.23418896, Dev loss is =0.35741794 Train accuracy is =0.91328335, Dev accuracy is 0.8798\n",
            "Start of epoch 3\n"
          ]
        },
        {
          "output_type": "stream",
          "name": "stderr",
          "text": [
            "Training loss for step 937: 0.2344: 100%|██████████|938/938\n"
          ]
        },
        {
          "output_type": "stream",
          "name": "stdout",
          "text": [
            "For epoch3, Train loss is = 0.22844234, Dev loss is =0.3484154 Train accuracy is =0.91511667, Dev accuracy is 0.8849\n",
            "Start of epoch 4\n"
          ]
        },
        {
          "output_type": "stream",
          "name": "stderr",
          "text": [
            "Training loss for step 937: 0.1939: 100%|██████████|938/938\n"
          ]
        },
        {
          "output_type": "stream",
          "name": "stdout",
          "text": [
            "For epoch4, Train loss is = 0.22187358, Dev loss is =0.36615396 Train accuracy is =0.917, Dev accuracy is 0.8785\n",
            "Start of epoch 5\n"
          ]
        },
        {
          "output_type": "stream",
          "name": "stderr",
          "text": [
            "Training loss for step 937: 0.1225: 100%|██████████|938/938\n"
          ]
        },
        {
          "output_type": "stream",
          "name": "stdout",
          "text": [
            "For epoch5, Train loss is = 0.21728234, Dev loss is =0.3452896 Train accuracy is =0.91906667, Dev accuracy is 0.8872\n",
            "Start of epoch 6\n"
          ]
        },
        {
          "output_type": "stream",
          "name": "stderr",
          "text": [
            "Training loss for step 937: 0.3092: 100%|██████████|938/938\n"
          ]
        },
        {
          "output_type": "stream",
          "name": "stdout",
          "text": [
            "For epoch6, Train loss is = 0.2110996, Dev loss is =0.3708819 Train accuracy is =0.92186666, Dev accuracy is 0.8811\n",
            "Start of epoch 7\n"
          ]
        },
        {
          "output_type": "stream",
          "name": "stderr",
          "text": [
            "Training loss for step 937: 0.2224: 100%|██████████|938/938\n"
          ]
        },
        {
          "output_type": "stream",
          "name": "stdout",
          "text": [
            "For epoch7, Train loss is = 0.20523004, Dev loss is =0.3691685 Train accuracy is =0.92265, Dev accuracy is 0.8855\n",
            "Start of epoch 8\n"
          ]
        },
        {
          "output_type": "stream",
          "name": "stderr",
          "text": [
            "Training loss for step 937: 0.0251: 100%|██████████|938/938\n"
          ]
        },
        {
          "output_type": "stream",
          "name": "stdout",
          "text": [
            "For epoch8, Train loss is = 0.20048168, Dev loss is =0.38355184 Train accuracy is =0.92553335, Dev accuracy is 0.8782\n",
            "Start of epoch 9\n"
          ]
        },
        {
          "output_type": "stream",
          "name": "stderr",
          "text": [
            "Training loss for step 937: 0.2670: 100%|██████████|938/938\n"
          ]
        },
        {
          "output_type": "stream",
          "name": "stdout",
          "text": [
            "For epoch9, Train loss is = 0.19934507, Dev loss is =0.3732436 Train accuracy is =0.92548335, Dev accuracy is 0.88\n"
          ]
        }
      ]
    },
    {
      "cell_type": "code",
      "metadata": {
        "colab": {
          "base_uri": "https://localhost:8080/",
          "height": 281
        },
        "id": "jwttzdrsZO0F",
        "outputId": "d66855b5-26b5-47eb-d81d-8a15993a503c"
      },
      "source": [
        "def plot_metrics( train_m , val_m ,title):\n",
        "  plt.title(title)\n",
        "  plt.ylim(0,1.0)\n",
        "  plt.gca().xaxis.set_major_locator(mticker.MultipleLocator(1))\n",
        "  plt.plot(train_m,color=\"blue\")\n",
        "  plt.plot(val_m,color=\"red\")\n",
        "\n",
        "plot_metrics(epoch_train_losses,epoch_val_losses, \"loss\")"
      ],
      "execution_count": 15,
      "outputs": [
        {
          "output_type": "display_data",
          "data": {
            "image/png": "[encoded data removed]",
            "text/plain": [
              "<Figure size 432x288 with 1 Axes>"
            ]
          },
          "metadata": {
            "needs_background": "light"
          }
        }
      ]
    },
    {
      "cell_type": "code",
      "metadata": {
        "id": "hrL1i7dDZTpr"
      },
      "source": [
        "def display_image( image_to_plot, n, y_pred_label, y_real_label):\n",
        "  plt.figure(figsize=(17,3)) \n",
        "  display_strings = [str(i)+\"\\n\\n\"+str(j) for i,j in zip(y_pred_label,y_real_label)]\n",
        "  plt.xticks([28*x+14 for x in range(n)],display_strings )\n",
        "  image = np.reshape(image_to_plot , [n,28,28])\n",
        "  image = np.swapaxes( image , 0, 1)\n",
        "  image = np.reshape( image, [28, 28 * n])\n",
        "  plt.imshow(image)"
      ],
      "execution_count": 17,
      "outputs": []
    },
    {
      "cell_type": "code",
      "metadata": {
        "colab": {
          "base_uri": "https://localhost:8080/",
          "height": 185
        },
        "id": "WfYJOXiCZqvg",
        "outputId": "fc140323-489b-432b-e41d-b5233d05ecec"
      },
      "source": [
        "test_inputs = test_data.batch(batch_size=1000001)\n",
        "x_batches, y_pred_batches, y_real_batches=[],[],[]\n",
        "\n",
        "for x,y in test_inputs:\n",
        "  y_pred = model(x)\n",
        "  print(len(y_pred))\n",
        "  y_pred_batches = y_pred.numpy()\n",
        "  y_real_batches = y.numpy()\n",
        "  x_batches = x.numpy()\n",
        "\n",
        "indexes = np.random.choice(len(y_pred_batches), size=10)\n",
        "\n",
        "image_to_plot = x_batches[indexes]\n",
        "y_pred_to_plot = y_pred_batches[indexes]\n",
        "y_true_to_plot = y_real_batches[indexes]\n",
        "\n",
        "\n",
        "y_pred_label = [ classes_name[np.argmax(j)] for j in y_pred_to_plot]\n",
        "y_real_label = [ classes_name[i] for i in y_true_to_plot]\n",
        "\n",
        "\n",
        "display_image( image_to_plot, 10, y_pred_label, y_real_label)"
      ],
      "execution_count": 18,
      "outputs": [
        {
          "output_type": "stream",
          "name": "stdout",
          "text": [
            "10000\n"
          ]
        },
        {
          "output_type": "display_data",
          "data": {
            "image/png": "[encoded data removed]",
            "text/plain": [
              "<Figure size 1224x216 with 1 Axes>"
            ]
          },
          "metadata": {
            "needs_background": "light"
          }
        }
      ]
    },
    {
      "cell_type": "code",
      "metadata": {
        "id": "RNcZ5m0abIdX"
      },
      "source": [
        ""
      ],
      "execution_count": null,
      "outputs": []
    }
  ]
}