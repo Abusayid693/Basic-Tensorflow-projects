{
  "nbformat": 4,
  "nbformat_minor": 0,
  "metadata": {
    "colab": {
      "name": "MNIST datasets.ipynb",
      "provenance": []
    },
    "kernelspec": {
      "name": "python3",
      "display_name": "Python 3"
    },
    "language_info": {
      "name": "python"
    }
  },
  "cells": [
    {
      "cell_type": "code",
      "metadata": {
        "id": "MTYFebJ3YgxY"
      },
      "source": [
        "import numpy as np\n",
        "import tensorflow as tf\n",
        "from tensorflow.keras.models import Model\n",
        "from tensorflow.keras.layers import Dense, Input\n",
        "\n",
        "from matplotlib import pyplot as plt\n",
        "import pandas as pd\n",
        "from sklearn.model_selection import train_test_split\n",
        "from sklearn.metrics import confusion_matrix\n",
        "\n",
        "import itertools\n",
        "from tqdm import tqdm\n",
        "\n",
        "import matplotlib.ticker as mticker"
      ],
      "execution_count": null,
      "outputs": []
    },
    {
      "cell_type": "code",
      "metadata": {
        "id": "0oiN8zFVYqad"
      },
      "source": [
        "\"\"\"\n",
        "Tensorflow fashion_mnist datasets \n",
        "   @tfds :  \n",
        "   TensorFlow Datasets is a collection of datasets ready to use, with TensorFlow \n",
        "   or other Python ML frameworks, such as Jax. All datasets are exposed as tf.data.Datasets ,\n",
        "   enabling easy-to-use and high-performance input pipelines. To get started see the guide and our \n",
        "   list of datasets.\n",
        "\"\"\"\n",
        "\n",
        "import tensorflow_datasets as tfds\n",
        "import tensorflow as tf\n",
        "import numpy as np\n",
        "\n",
        "def load_datasets():\n",
        "  train_data , info = tfds.load(\"fashion_mnist\", split=\"train\", with_info=True)\n",
        "  test_data = tfds.load(\"fashion_mnist\", split=\"test\")\n",
        "  # Fashion_mnist contains 10 labels \n",
        "  Num_of_training_data = tf.data.experimental.cardinality(train_data).numpy()\n",
        "  print(Num_of_training_data)\n",
        "  print(train_data)\n",
        "  return train_data, test_data\n",
        "\n",
        "\"\"\"\n",
        "Normalizing the datasets \n",
        "\"\"\"\n",
        "\n",
        "def Normalize_datasets(data):\n",
        "  image = data[\"image\"]\n",
        "  # Rescaling image into a vector\n",
        "  image = tf.reshape(image, [-1,])\n",
        "  image = tf.cast(image,'float32')\n",
        "  image = image/255.0\n",
        "  return image , data[\"label\"]  \n",
        "\n",
        "\"\"\"\n",
        "Normalizing the datasets and forming batches from original\n",
        "size of 60,000 training examples and 10,000\n",
        "test examples\n",
        "\"\"\"\n",
        "\n",
        "def preprocess_datasets(batch_size):\n",
        "  # Getting datasets from load_datasets function\n",
        "  train_data, test_data = load_datasets()\n",
        "  train_data = train_data.map(Normalize_datasets)\n",
        "  test_data = test_data.map(Normalize_datasets)\n",
        "  # Random shuffling with default buffer size \n",
        "  train = train_data.shuffle(buffer_size=1024).batch(batch_size)\n",
        "  dev = test_data.batch(batch_size)\n",
        "  return train, dev\n",
        "\n",
        "\n"
      ],
      "execution_count": 11,
      "outputs": []
    },
    {
      "cell_type": "code",
      "metadata": {
        "id": "ziMzgaWYY-xP"
      },
      "source": [
        "\"\"\"\n",
        "Defining deep neural network model using keras layers\n",
        " Input : 784 neurons\n",
        " 1st Deep layer : 64 neurons, relu activation\n",
        " 2nd Deep layer : 64 neurons, relu activation\n",
        " Output layer : 10 neurons, softmax activation\n",
        "\n",
        "\"\"\"\n",
        "\n",
        "import tensorflow as tf\n",
        "from tensorflow.keras.models import Model\n",
        "from tensorflow.keras.layers import Dense, Input\n",
        "import numpy as np\n",
        "\n",
        "def base_model():\n",
        "  inputs = tf.keras.Input(shape = (784,), name=\"clothing\")\n",
        "  x = tf.keras.layers.Dense(64, activation=\"relu\", name=\"dense_1\")(inputs)\n",
        "  x = tf.keras.layers.Dense(64, activation=\"relu\", name=\"dense_2\")(x)\n",
        "  outputs = tf.keras.layers.Dense(10, activation=\"softmax\" , name=\"predictions\")(x)\n",
        "  model = tf.keras.Model(inputs=inputs,outputs=outputs)\n",
        "  return model\n",
        "\n",
        "\"\"\"\n",
        "Adam optimization is a stochastic gradient descent method that is based on \n",
        "adaptive estimation of first-order and second-order moments. We used SparseCategoricalCrossentropy\n",
        "since our labels are not in one-hot form.\n",
        "\"\"\"\n",
        "\n",
        "def optimizer_and_loss(\n",
        "    learning_rate=0.001,\n",
        "    beta_1=0.9,\n",
        "    beta_2=0.999,\n",
        "    epsilon=1e-07,\n",
        "    amsgrad=False,\n",
        "    name='Adam'\n",
        "    ):\n",
        "  optimizer = tf.keras.optimizers.Adam(\n",
        "      learning_rate,\n",
        "      beta_1,\n",
        "      beta_2,\n",
        "      epsilon,\n",
        "      amsgrad,\n",
        "      name)\n",
        "  loss_object = tf.keras.losses.SparseCategoricalCrossentropy()\n",
        "  return optimizer, loss_object\n",
        "  \n"
      ],
      "execution_count": 5,
      "outputs": []
    },
    {
      "cell_type": "code",
      "metadata": {
        "id": "N0dE98bYZC2m"
      },
      "source": [
        "import tensorflow as tf\n",
        "\n",
        "\"\"\"\n",
        "Defining mertics to keep a track-record of our model accuracy during training processs\n",
        "\"\"\"\n",
        "\n",
        "def initialize_accuracy_matrics():\n",
        "  train_acc_metric = tf.keras.metrics.SparseCategoricalAccuracy()\n",
        "  val_acc_metric = tf.keras.metrics.SparseCategoricalAccuracy()\n",
        "  return train_acc_metric, val_acc_metric\n",
        "\n"
      ],
      "execution_count": 22,
      "outputs": []
    },
    {
      "cell_type": "code",
      "metadata": {
        "id": "z9zaTborZFlY"
      },
      "source": [
        "import tensorflow as tf\n",
        "import itertools\n",
        "from tqdm import tqdm\n",
        "\n",
        "\"\"\"\n",
        "Defining training loop with tensorflow gradient tape\n",
        "\"\"\"\n",
        "\n",
        "def apply_gradient(optimizer,model,x,y,loss_object):\n",
        "  \"\"\"\n",
        "  tf.GradientTape allows us to track TensorFlow computations and calculate\n",
        "   gradients w.r.t. (with respect to) some given variables\n",
        "  \"\"\"\n",
        "\n",
        "  with tf.GradientTape() as tape:\n",
        "    # Forward propogation\n",
        "    logits = model(x)\n",
        "    loss_value = loss_object(y_true = y, y_pred = logits)\n",
        "  # backward propogation i.e : Gradient computation\n",
        "  gradients = tape.gradient(loss_value, model.trainable_weights)\n",
        "  optimizer.apply_gradients(zip(gradients,model.trainable_weights))  \n",
        "  return logits,loss_value\n",
        "\n",
        "\n",
        "\"\"\"\n",
        "Defining train method for one epoch\n",
        "\"\"\"\n",
        "\n",
        "def train_data_for_one_epoch(optimizer, train, model, loss_object, train_acc_metric):\n",
        "  losses = []\n",
        "  pbar= tqdm(total=len(list(enumerate(train))), position=0, leave=True, bar_format='{l_bar}{bar}|{n_fmt}/{total_fmt}')\n",
        "\n",
        "  for step, (x_batch_train, y_batch_train) in enumerate(train):\n",
        "    logits,loss_value = apply_gradient(optimizer,model,x_batch_train,y_batch_train,loss_object)\n",
        "    losses.append(loss_value)\n",
        "    train_acc_metric(y_batch_train,logits)\n",
        "    pbar.set_description(\"Training loss for step %s: %.4f\" % ( int(step), float(loss_value)))\n",
        "    pbar.update()\n",
        "\n",
        "  return losses\n",
        "\n",
        "\n",
        "\n",
        "\"\"\"\n",
        "Performing corss validation on development set after each epoch \n",
        "and calculating cross-accuracy\n",
        "\"\"\"\n",
        "\n",
        "def perform_validation(model, dev, val_acc_metric ,loss_object):\n",
        "  losses = []\n",
        "  for x_val,y_val in dev:\n",
        "    val_logits = model(x_val)\n",
        "    val_loss = loss_object(y_true = y_val, y_pred = val_logits)\n",
        "    losses.append(val_loss)\n",
        "\n",
        "    val_acc_metric(y_val,val_logits)\n",
        "  return losses \n"
      ],
      "execution_count": 26,
      "outputs": []
    },
    {
      "cell_type": "code",
      "metadata": {
        "colab": {
          "base_uri": "https://localhost:8080/"
        },
        "id": "JmpDIvCuZMhU",
        "outputId": "13882239-ea92-4cec-d662-704d690d6727"
      },
      "source": [
        "import numpy as np\n",
        "\n",
        "\"\"\"\n",
        "Training loop initialization\n",
        "\"\"\"\n",
        "\n",
        "def initialize_training():\n",
        "\n",
        "  train_acc_metric, val_acc_metric = initialize_accuracy_matrics()\n",
        "  optimizer,loss_object = optimizer_and_loss()\n",
        "  train, dev = preprocess_datasets( 64)\n",
        "  # Instance of main tensorflow model\n",
        "  model = base_model()\n",
        "\n",
        "  epochs = 10\n",
        "  epoch_val_losses, epoch_train_losses = [],[]\n",
        "\n",
        "  for epoch in range(epochs):\n",
        "    print('Start of epoch %d'% (epoch,)) \n",
        "\n",
        "    losses_train = train_data_for_one_epoch(optimizer,train,model,loss_object, train_acc_metric)\n",
        "    train_acc = train_acc_metric.result()\n",
        "\n",
        "    losses_val = perform_validation(model, dev , val_acc_metric, loss_object)\n",
        "    val_acc = val_acc_metric.result()\n",
        "\n",
        "    losses_train_mean = np.mean(losses_train)\n",
        "    losses_dev_mean = np.mean(losses_val)\n",
        "\n",
        "    epoch_val_losses.append(losses_train_mean)\n",
        "    epoch_train_losses.append(losses_dev_mean)\n",
        "\n",
        "    print(\"For epoch\"+str(epoch)+\", Train loss is = \"+str(losses_train_mean)+\", Dev loss is =\"+str(losses_dev_mean)+\" Train accuracy is =\"+str(train_acc.numpy())+\", Dev accuracy is \"+str(val_acc.numpy()))\n",
        "\n",
        "    train_acc_metric.reset_states()\n",
        "    val_acc_metric.reset_states()\n",
        "\n",
        "  return model, epoch_val_losses, epoch_train_losses, dev\n",
        "\n",
        "model, epoch_val_losses, epoch_train_losses, dev = initialize_training()\n",
        "\n"
      ],
      "execution_count": 28,
      "outputs": [
        {
          "output_type": "stream",
          "name": "stdout",
          "text": [
            "60000\n",
            "<PrefetchDataset shapes: {image: (28, 28, 1), label: ()}, types: {image: tf.uint8, label: tf.int64}>\n",
            "Start of epoch 0\n"
          ]
        },
        {
          "output_type": "stream",
          "name": "stderr",
          "text": [
            "Training loss for step 937: 0.4153: 100%|██████████|938/938\n"
          ]
        },
        {
          "output_type": "stream",
          "name": "stdout",
          "text": [
            "For epoch0, Train loss is = 0.5477903, Dev loss is =0.45410627 Train accuracy is =0.8085167, Dev accuracy is 0.8343\n",
            "Start of epoch 1\n"
          ]
        },
        {
          "output_type": "stream",
          "name": "stderr",
          "text": [
            "Training loss for step 937: 0.6731: 100%|██████████|938/938\n"
          ]
        },
        {
          "output_type": "stream",
          "name": "stdout",
          "text": [
            "For epoch1, Train loss is = 0.39875722, Dev loss is =0.41549584 Train accuracy is =0.85613334, Dev accuracy is 0.8514\n",
            "Start of epoch 2\n"
          ]
        },
        {
          "output_type": "stream",
          "name": "stderr",
          "text": [
            "Training loss for step 937: 0.1753: 100%|██████████|938/938\n"
          ]
        },
        {
          "output_type": "stream",
          "name": "stdout",
          "text": [
            "For epoch2, Train loss is = 0.36065698, Dev loss is =0.41272637 Train accuracy is =0.87046665, Dev accuracy is 0.8548\n",
            "Start of epoch 3\n"
          ]
        },
        {
          "output_type": "stream",
          "name": "stderr",
          "text": [
            "Training loss for step 937: 0.1975: 100%|██████████|938/938\n"
          ]
        },
        {
          "output_type": "stream",
          "name": "stdout",
          "text": [
            "For epoch3, Train loss is = 0.3340827, Dev loss is =0.37297118 Train accuracy is =0.87918335, Dev accuracy is 0.8668\n",
            "Start of epoch 4\n"
          ]
        },
        {
          "output_type": "stream",
          "name": "stderr",
          "text": [
            "Training loss for step 937: 0.2740: 100%|██████████|938/938\n"
          ]
        },
        {
          "output_type": "stream",
          "name": "stdout",
          "text": [
            "For epoch4, Train loss is = 0.3154151, Dev loss is =0.39066783 Train accuracy is =0.88385, Dev accuracy is 0.8634\n",
            "Start of epoch 5\n"
          ]
        },
        {
          "output_type": "stream",
          "name": "stderr",
          "text": [
            "Training loss for step 937: 0.1931: 100%|██████████|938/938\n"
          ]
        },
        {
          "output_type": "stream",
          "name": "stdout",
          "text": [
            "For epoch5, Train loss is = 0.3012433, Dev loss is =0.36243865 Train accuracy is =0.8891, Dev accuracy is 0.8753\n",
            "Start of epoch 6\n"
          ]
        },
        {
          "output_type": "stream",
          "name": "stderr",
          "text": [
            "Training loss for step 937: 0.2972: 100%|██████████|938/938\n"
          ]
        },
        {
          "output_type": "stream",
          "name": "stdout",
          "text": [
            "For epoch6, Train loss is = 0.2883074, Dev loss is =0.35052654 Train accuracy is =0.8936667, Dev accuracy is 0.8776\n",
            "Start of epoch 7\n"
          ]
        },
        {
          "output_type": "stream",
          "name": "stderr",
          "text": [
            "Training loss for step 937: 0.3513: 100%|██████████|938/938\n"
          ]
        },
        {
          "output_type": "stream",
          "name": "stdout",
          "text": [
            "For epoch7, Train loss is = 0.27667016, Dev loss is =0.33893237 Train accuracy is =0.89846665, Dev accuracy is 0.8841\n",
            "Start of epoch 8\n"
          ]
        },
        {
          "output_type": "stream",
          "name": "stderr",
          "text": [
            "Training loss for step 937: 0.2848: 100%|██████████|938/938\n"
          ]
        },
        {
          "output_type": "stream",
          "name": "stdout",
          "text": [
            "For epoch8, Train loss is = 0.26781708, Dev loss is =0.34557456 Train accuracy is =0.89996666, Dev accuracy is 0.8811\n",
            "Start of epoch 9\n"
          ]
        },
        {
          "output_type": "stream",
          "name": "stderr",
          "text": [
            "Training loss for step 937: 0.3573: 100%|██████████|938/938\n"
          ]
        },
        {
          "output_type": "stream",
          "name": "stdout",
          "text": [
            "For epoch9, Train loss is = 0.25754863, Dev loss is =0.3811124 Train accuracy is =0.90435, Dev accuracy is 0.8719\n"
          ]
        }
      ]
    },
    {
      "cell_type": "code",
      "metadata": {
        "colab": {
          "base_uri": "https://localhost:8080/",
          "height": 432
        },
        "id": "jwttzdrsZO0F",
        "outputId": "8300b73f-c1a6-43a7-ca48-2cc1c05d4c66"
      },
      "source": [
        "import numpy as np\n",
        "import matplotlib.ticker as mticker\n",
        "from matplotlib import pyplot as plt\n",
        "\n",
        "def plot_metrics( train_m , val_m ,title):\n",
        "  plt.title(title)\n",
        "  plt.ylim(0,1.0)\n",
        "  plt.gca().xaxis.set_major_locator(mticker.MultipleLocator(1))\n",
        "  plt.plot(train_m,color=\"blue\")\n",
        "  plt.plot(val_m,color=\"red\")\n",
        "\n",
        "\n",
        "def display_image( image_to_plot, n, y_pred_label, y_real_label):\n",
        "  plt.figure(figsize=(17,3)) \n",
        "  display_strings = [str(i)+\"\\n\\n\"+str(j) for i,j in zip(y_pred_label,y_real_label)]\n",
        "  plt.xticks([28*x+14 for x in range(n)],display_strings )\n",
        "  image = np.reshape(image_to_plot , [n,28,28])\n",
        "  image = np.swapaxes( image , 0, 1)\n",
        "  image = np.reshape( image, [28, 28 * n])\n",
        "  plt.imshow(image)\n",
        "\n",
        "plot_metrics(epoch_train_losses,epoch_val_losses, \"loss\")\n",
        "\n",
        "\n",
        "def Visualize_metrice():\n",
        "  # Corresponding labels for Fashion MNST datasets\n",
        "  classes_name = [ \"T-shirt/top\",\"Trouser/pants\", \"Pullover shirt\",\"Dress\",\"Coat\",\"Sandal\", \"Shirt\", \"Sneaker\",\"Bag\",\"Ankle boot\" ]\n",
        "  x_batches, y_pred_batches, y_real_batches=[],[],[]\n",
        "\n",
        "  for x,y in dev:\n",
        "    y_pred = model(x)\n",
        "    y_pred_batches = y_pred.numpy()\n",
        "    y_real_batches = y.numpy()\n",
        "    x_batches = x.numpy()\n",
        "\n",
        "  indexes = np.random.choice(len(y_pred_batches), size=10)\n",
        "  image_to_plot = x_batches[indexes]\n",
        "  y_pred_to_plot = y_pred_batches[indexes]\n",
        "  y_true_to_plot = y_real_batches[indexes]\n",
        "  y_pred_label = [ classes_name[np.argmax(j)] for j in y_pred_to_plot]\n",
        "  y_real_label = [ classes_name[i] for i in y_true_to_plot]\n",
        "  display_image( image_to_plot, 10, y_pred_label, y_real_label)\n",
        "\n",
        "Visualize_metrice()"
      ],
      "execution_count": 39,
      "outputs": [
        {
          "output_type": "display_data",
          "data": {
            "image/png": "[encoded data removed]",
            "text/plain": [
              "<Figure size 432x288 with 1 Axes>"
            ]
          },
          "metadata": {
            "needs_background": "light"
          }
        },
        {
          "output_type": "display_data",
          "data": {
            "image/png": "[encoded data removed]",
            "text/plain": [
              "<Figure size 1224x216 with 1 Axes>"
            ]
          },
          "metadata": {
            "needs_background": "light"
          }
        }
      ]
    },
    {
      "cell_type": "code",
      "metadata": {
        "id": "joPQiXyP3nRW"
      },
      "source": [
        ""
      ],
      "execution_count": null,
      "outputs": []
    }
  ]
}